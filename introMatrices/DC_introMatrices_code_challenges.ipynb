{
 "cells": [
  {
   "cell_type": "markdown",
   "id": "d35913be",
   "metadata": {},
   "source": [
    "# IntroMatrices Code Challenges and Solutions to Practice Questions"
   ]
  },
  {
   "cell_type": "code",
   "execution_count": 1,
   "id": "881a7b11",
   "metadata": {},
   "outputs": [],
   "source": [
    "import numpy as np\n",
    "import matplotlib.pyplot as plt"
   ]
  },
  {
   "cell_type": "markdown",
   "id": "64d235ae",
   "metadata": {},
   "source": [
    "## Code challenge: is matrix-scalar multiplication a linear operation (distributive)?\n",
    "Test for some random MxN matrices whether s(A+B) = sA + sB"
   ]
  },
  {
   "cell_type": "code",
   "execution_count": 36,
   "id": "2f49b71a",
   "metadata": {},
   "outputs": [
    {
     "name": "stdout",
     "output_type": "stream",
     "text": [
      "Scalar (s):\n",
      " [1]\n",
      "\n",
      "Matrix A:\n",
      " [[ -1 -10  -9]\n",
      " [  4  -9   9]]\n",
      "Matrix B:\n",
      " [[ 8 -1  9]\n",
      " [-2  6  5]]\n",
      "\n",
      "s(A+B) =\n",
      " [[  7 -11   0]\n",
      " [  2  -3  14]]\n",
      "sA + sB =\n",
      " [[  7 -11   0]\n",
      " [  2  -3  14]]\n",
      "\n",
      "s(a+b) = sA + sB. \n",
      "Therefore, matrix-scalar multiplication is a linear operation (distributive).\n"
     ]
    }
   ],
   "source": [
    "# create matrices\n",
    "scalar = np.random.randint(-10, 10, 1)  # random scalar\n",
    "A = np.random.randint(-10, 10, (2,3))  # random matrix A\n",
    "B = np.random.randint(-10, 10, (2,3))  # random matrix B\n",
    "print(\"Scalar (s):\\n\",scalar)\n",
    "print(\"\\nMatrix A:\\n\", A)\n",
    "print(\"Matrix B:\\n\", B)\n",
    "\n",
    "# pre- and post-multiplication\n",
    "\n",
    "test1 = scalar * (A + B)\n",
    "print(\"\\ns(A+B) =\\n\", test1)\n",
    "\n",
    "test2 = scalar * A + scalar * B\n",
    "print(\"sA + sB =\\n\", test2)\n",
    "\n",
    "if np.all(test1 == test2):\n",
    "    print(\"\\ns(a+b) = sA + sB. \\nTherefore, matrix-scalar multiplication is a linear operation (distributive).\")\n",
    "else:    print(\"\\ns(a+b) =/= sA + sB. \\nTherefore, matrix-scalar multiplication is NOT a linear operation.\")\n",
    "\n",
    "\n",
    "\n",
    "# note: this is a linear operation, however it originally showed to be incorrect when using the np.random.randn function, probably\n",
    "# due to the roudning errors in the floating point representation of the numbers."
   ]
  },
  {
   "cell_type": "markdown",
   "id": "56250f15",
   "metadata": {},
   "source": [
    "## Code Challenge: is the trace a linear operation?\n",
    "-   Determine the relationship between: *tr(A)+tr(B)* and *tr(A+B)*"
   ]
  },
  {
   "cell_type": "code",
   "execution_count": 73,
   "id": "af585e4f",
   "metadata": {},
   "outputs": [
    {
     "name": "stdout",
     "output_type": "stream",
     "text": [
      "\n",
      "Matrix A:\n",
      " [[-0.41587648  0.68271673 -0.83955823]\n",
      " [ 1.87981623  0.51617354 -0.03098984]\n",
      " [-1.47862185  0.14693455  0.59544436]]\n",
      "\n",
      "Matrix B:\n",
      " [[-0.9621936  -0.51920056 -2.58463948]\n",
      " [ 1.09723774 -0.62203011  0.6425382 ]\n",
      " [-0.10245608  0.0517754   0.71732949]]\n",
      "\n",
      "tr(A) + tr(B)\n",
      "= -0.1712\n",
      "tr(A+B)\n",
      "= -0.1712\n",
      "\n",
      "(tr(A)+tr(B)) - (tr(A+B)) = 0.0\n",
      "\n",
      "Therefore, tr(A)+tr(B) = tr(A+B). The trace is a linear operation.\n"
     ]
    }
   ],
   "source": [
    "# Create to random matrices A and B\n",
    "matrixSize = 3\n",
    "\n",
    "A = np.random.randn(matrixSize,matrixSize)\n",
    "B = np.random.randn(matrixSize,matrixSize)\n",
    "print(\"\\nMatrix A:\\n\", A)\n",
    "print(\"\\nMatrix B:\\n\", B)\n",
    "\n",
    "# Does tr(a)+tr(b) = tr(a+b)?\n",
    "test1 = np.trace(A) + np.trace(B)\n",
    "test2 = np.trace(A + B)\n",
    "print(\"\\ntr(A) + tr(B)\\n=\", round(test1,4))\n",
    "print(\"tr(A+B)\\n=\", round(test2,4))\n",
    "\n",
    "difference = np.round(test1 - test2)\n",
    "print(\"\\n(tr(A)+tr(B)) - (tr(A+B)) =\", difference)\n",
    "if difference == 0:\n",
    "    print(\"\\nTherefore, tr(A)+tr(B) = tr(A+B). The trace is a linear operation.\")\n",
    "else:\n",
    "    print(\"\\nTherefore, tr(A)+tr(B) != tr(A+B). The trace is NOT a linear operation.\")\n",
    "\n"
   ]
  },
  {
   "cell_type": "markdown",
   "id": "e049c4c3",
   "metadata": {},
   "source": [
    "-   Determine the relationship between: *tr(lambda\\*A)* and *lambda\\*tr(A)*"
   ]
  },
  {
   "cell_type": "code",
   "execution_count": 60,
   "id": "f5623ccc",
   "metadata": {},
   "outputs": [
    {
     "name": "stdout",
     "output_type": "stream",
     "text": [
      "\n",
      "Matrix A:\n",
      " [[-0.25735614  0.92461052  0.88984473]\n",
      " [ 1.92566076 -1.02935025  0.20757295]\n",
      " [-0.67566631  0.90732094 -0.95875659]]\n",
      "\n",
      "Scalar (l):\n",
      " [[0.20410215]]\n",
      "\n",
      "(tr(lA)) - (l tr(A)) = [[0.]]\n",
      "\n",
      "Therefore, tr(lA) = l tr(A). The trace is a linear operation.\n"
     ]
    }
   ],
   "source": [
    "# Create to random matrices A and B\n",
    "matrixSize = 3\n",
    "\n",
    "A = np.random.randn(matrixSize,matrixSize)\n",
    "print(\"\\nMatrix A:\\n\", A)\n",
    "\n",
    "# Make some scalar, lambda (l)\n",
    "l = np.random.randn(1,1)\n",
    "print(\"\\nScalar (l):\\n\", l)\n",
    "\n",
    "# Does tr(lA) = l tr(A)?\n",
    "test1 = np.trace(l * A)\n",
    "test2 = l * np.trace(A)\n",
    "\n",
    "difference = np.round(test1 - test2)\n",
    "\n",
    "print(\"\\n(tr(lA)) - (l tr(A)) =\", difference)\n",
    "if difference == 0:\n",
    "    print(\"\\nTherefore, tr(lA) = l tr(A). The trace is a linear operation.\")\n",
    "else:\n",
    "    print(\"\\nTherefore, tr(lA) != l tr(A). The trace is NOT a linear operation.\")"
   ]
  }
 ],
 "metadata": {
  "kernelspec": {
   "display_name": "Python 3",
   "language": "python",
   "name": "python3"
  },
  "language_info": {
   "codemirror_mode": {
    "name": "ipython",
    "version": 3
   },
   "file_extension": ".py",
   "mimetype": "text/x-python",
   "name": "python",
   "nbconvert_exporter": "python",
   "pygments_lexer": "ipython3",
   "version": "3.12.11"
  }
 },
 "nbformat": 4,
 "nbformat_minor": 5
}
