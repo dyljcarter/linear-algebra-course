{
 "cells": [
  {
   "cell_type": "markdown",
   "metadata": {},
   "source": [
    "#     COURSE: Linear algebra: theory and implementation\n",
    "##    SECTION: Introduction to matrices\n",
    "\n",
    "#### Instructor: sincxpress.com\n",
    "##### Course url: https://www.udemy.com/course/linear-algebra-theory-and-implementation/?couponCode=202110"
   ]
  },
  {
   "cell_type": "code",
   "execution_count": 1,
   "metadata": {},
   "outputs": [],
   "source": [
    "import numpy as np"
   ]
  },
  {
   "cell_type": "markdown",
   "metadata": {},
   "source": [
    "\n",
    "---\n",
    "# VIDEO: A zoo of matrices\n",
    "---\n"
   ]
  },
  {
   "cell_type": "code",
   "execution_count": 6,
   "metadata": {},
   "outputs": [
    {
     "name": "stdout",
     "output_type": "stream",
     "text": [
      "[[-1.26020165  0.89061118  1.33171661  0.07969477 -0.05661143]\n",
      " [ 0.57371464  1.1432026   0.47765451 -0.75507764 -1.03904926]\n",
      " [-0.43044786  1.18403069 -0.81885263 -0.41542259  1.18715059]\n",
      " [ 1.06716009  0.26912883  0.42058498  1.21039488  0.36158893]\n",
      " [-0.83403221 -0.58811564 -0.192789    0.76854731 -0.52920276]]\n",
      " \n",
      "[[ 0.18837242  0.00882431]\n",
      " [-0.16269656 -0.37785732]\n",
      " [ 0.3048818  -0.22509344]\n",
      " [-2.59000479 -0.72234585]\n",
      " [-0.91496424 -0.52304754]]\n",
      " \n",
      "[[1. 0. 0.]\n",
      " [0. 1. 0.]\n",
      " [0. 0. 1.]]\n",
      " \n",
      "[[0. 0. 0. 0.]\n",
      " [0. 0. 0. 0.]\n",
      " [0. 0. 0. 0.]\n",
      " [0. 0. 0. 0.]]\n",
      " \n",
      "[[1 0 0 0 0]\n",
      " [0 2 0 0 0]\n",
      " [0 0 3 0 0]\n",
      " [0 0 0 5 0]\n",
      " [0 0 0 0 2]]\n",
      " \n",
      "[[-0.12852225 -0.60748405  0.73255241 -0.45164508  0.21006691]\n",
      " [ 0.          0.70546966  0.75961822 -0.51017784 -2.1260467 ]\n",
      " [ 0.          0.          1.19942154 -0.6691895   1.07508991]\n",
      " [ 0.          0.          0.         -0.60038379 -0.67352247]\n",
      " [ 0.          0.          0.          0.         -0.70843106]]\n",
      " \n",
      "[[-0.70274407  0.97137615  2.37645087 -1.22344734  0.21750686 -1.59503482]\n",
      " [ 0.36420996 -0.06522563 -0.12365934 -0.8697174  -1.76310712 -0.82439013]\n",
      " [-1.34252787  1.01938442  0.90375463 -1.12339772 -0.27126933  1.3931835 ]]\n"
     ]
    }
   ],
   "source": [
    "\n",
    "# square vs. rectangular\n",
    "S = np.random.randn(5,5) # 5 rows, 5 columns\n",
    "R = np.random.randn(5,2) # 5 rows, 2 columns\n",
    "print(S), print(' ')\n",
    "print(R)\n",
    "print(' ')\n",
    " \n",
    "# identity\n",
    "I = np.eye(3) # 3x3 identity matrix - eye creates identity matrices                   \n",
    "print(I), print(' ')\n",
    "\n",
    "# zeros\n",
    "Z = np.zeros((4,4)) # 4x4 matrix of zeros (must input shape as a tuple).\n",
    "# must be a tuple, as you can specify the set of numbers: \n",
    "# i.e. complexZ = np.zeors((4,4), complex)\n",
    "print(Z), print(' ')\n",
    "\n",
    "# diagonal\n",
    "D = np.diag([ 1, 2, 3, 5, 2 ]) # input a list of numbers, puts this vector on the diagonal\n",
    "print(D), print(' ')\n",
    "\n",
    "# create triangular matrix from full matrices\n",
    "S = np.random.randn(5,5)\n",
    "U = np.triu(S)\n",
    "L = np.tril(S)\n",
    "print(U), print(' ')\n",
    "\n",
    "# concatenate matrices (sizes must match!)\n",
    "\n",
    "# so, this works:\n",
    "A = np.random.randn(3,2)\n",
    "B = np.random.randn(3,4)\n",
    "C = np.concatenate((A,B),axis=1)\n",
    "print(C)\n",
    "\n",
    "# but, this doesnt!\n",
    "# A = np.random.randn(3,2)\n",
    "# B = np.random.randn(4,4)\n",
    "# C = np.concatenate((A,B),axis=1)\n",
    "# print(C)"
   ]
  },
  {
   "cell_type": "markdown",
   "metadata": {},
   "source": [
    "\n",
    "---\n",
    "# VIDEO: Matrix addition and subtraction\n",
    "---\n"
   ]
  },
  {
   "cell_type": "code",
   "execution_count": null,
   "metadata": {},
   "outputs": [
    {
     "name": "stdout",
     "output_type": "stream",
     "text": [
      "[[ 0.99208998  1.27769145 -0.01304592  0.27193814  0.19525576]\n",
      " [ 0.19837076  0.81218963 -0.68580111 -0.41920725  1.92591862]\n",
      " [ 1.10440613  0.378688   -1.29788059  1.37347765  1.73383743]\n",
      " [ 0.26808685 -2.48642953 -0.44906869 -0.65921792  0.22971805]\n",
      " [-0.83416409  1.41772586 -0.58982632 -0.75300164  1.1560665 ]]\n",
      " \n",
      "[[ 1.02208998  1.27769145 -0.01304592  0.27193814  0.19525576]\n",
      " [ 0.19837076  0.84218963 -0.68580111 -0.41920725  1.92591862]\n",
      " [ 1.10440613  0.378688   -1.26788059  1.37347765  1.73383743]\n",
      " [ 0.26808685 -2.48642953 -0.44906869 -0.62921792  0.22971805]\n",
      " [-0.83416409  1.41772586 -0.58982632 -0.75300164  1.1860665 ]]\n"
     ]
    },
    {
     "data": {
      "text/plain": [
       "(None, None, None)"
      ]
     },
     "execution_count": 8,
     "metadata": {},
     "output_type": "execute_result"
    }
   ],
   "source": [
    "\n",
    "# create random matrices\n",
    "A = np.random.randn(5,4)\n",
    "B = np.random.randn(5,3)\n",
    "C = np.random.randn(5,4)\n",
    "\n",
    "# try to add them\n",
    "\n",
    "# A+B THIS DOESNT WORK AS SIZES DONT MATCH\n",
    "A+C\n",
    "\n",
    "\n",
    "\n",
    "# \"shifting\" a matrix\n",
    "\n",
    "l = .03 # lambda\n",
    "N = 5  # size of square matrix\n",
    "D = np.random.randn(N,N) # can only shift a square matrix\n",
    "\n",
    "Ds = D + l*np.eye(N)\n",
    "print(D), print(' '), print(Ds)\n",
    "# Note that the diagonal elements have been shifted by l, but the rest of the matrix is unchanged  "
   ]
  },
  {
   "cell_type": "markdown",
   "metadata": {},
   "source": [
    "\n",
    "---\n",
    "# VIDEO: Matrix-scalar multiplication\n",
    "---\n"
   ]
  },
  {
   "cell_type": "code",
   "execution_count": 10,
   "metadata": {},
   "outputs": [
    {
     "name": "stdout",
     "output_type": "stream",
     "text": [
      "[[ 2  4]\n",
      " [ 4 10]]\n",
      "\n",
      "[[ 2  4]\n",
      " [ 4 10]]\n"
     ]
    }
   ],
   "source": [
    "# define matrix and scalar\n",
    "M = np.array([ [1, 2], [2, 5] ])\n",
    "s = 2\n",
    "\n",
    "# pre- and post-multiplication is the same:\n",
    "print( M*s )\n",
    "print('')\n",
    "print( s*M )\n"
   ]
  },
  {
   "cell_type": "markdown",
   "metadata": {},
   "source": [
    "# VIDEO: Transpose"
   ]
  },
  {
   "cell_type": "code",
   "execution_count": null,
   "metadata": {},
   "outputs": [
    {
     "name": "stdout",
     "output_type": "stream",
     "text": [
      "Matrix:\n",
      " [[1 2 3]\n",
      " [2 3 4]]\n",
      "\n",
      "Transpose using .T:\n",
      " [[1 2]\n",
      " [2 3]\n",
      " [3 4]]\n",
      "\n",
      "Transpose of transpose:\n",
      " [[1 2 3]\n",
      " [2 3 4]]\n",
      "\n",
      "Transpose using np.transpose:\n",
      " [[1 2]\n",
      " [2 3]\n",
      " [3 4]]\n"
     ]
    }
   ],
   "source": [
    "M = np.array([ [1,2,3],\n",
    "               [2,3,4] ])\n",
    "\n",
    "print(\"Matrix:\\n\", M), print('')\n",
    "print(\"Transpose using .T:\\n\", M.T), print('') # one transpose\n",
    "print(\"Transpose of transpose:\\n\",M.T.T), print('') # double-transpose returns the original matrix\n",
    "\n",
    "# can also use the function transpose\n",
    "print(\"Transpose using np.transpose:\\n\", np.transpose(M))\n",
    "\n",
    "# Note: .T does not work unless array is a numpy array, so np.transpose is more general"
   ]
  },
  {
   "cell_type": "code",
   "execution_count": 23,
   "metadata": {},
   "outputs": [
    {
     "name": "stdout",
     "output_type": "stream",
     "text": [
      "Complex Matrix:\n",
      " [[4.+1.j 3.+0.j 2.-4.j]]\n",
      "\n",
      "Using the .T operator:\n",
      " [[4.+1.j]\n",
      " [3.+0.j]\n",
      " [2.-4.j]]\n",
      "\n",
      "Using the np.tranpose function:\n",
      " [[4.+1.j]\n",
      " [3.+0.j]\n",
      " [2.-4.j]]\n",
      "\n",
      "Note: the .T and np.transpose functions return the normal transpose, no the Hermitian transpose.\n",
      "\n",
      "\n",
      "In python, you first need to use the .conjugate function for the Hermetian Transpose:\n",
      " [[4.-1.j]\n",
      " [3.-0.j]\n",
      " [2.+4.j]]\n"
     ]
    }
   ],
   "source": [
    "# warning! be careful when using complex matrices\n",
    "C = np.array([ [4+1j , 3 , 2-4j] ])\n",
    "\n",
    "print(\"Complex Matrix:\\n\", C), print('')\n",
    "print(\"Using the .T operator:\\n\", C.T), print('')\n",
    "print(\"Using the np.tranpose function:\\n\", np.transpose(C)), print('')\n",
    "print(\"Note: the .T and np.transpose functions return the normal transpose, no the Hermitian transpose.\\n\")\n",
    "\n",
    "# Note: In MATLAB, the transpose is the Hermitian transpose; \n",
    "#       in Python, you need to call the Hermitian explicitly by first converting from an array into a matrix\n",
    "hermitian_C = C.conjugate().T\n",
    "# Another note: the code I used in the video will soon be depreciated; use the above line instead.\n",
    "\n",
    "print(\"\\nIn python, you first need to use the .conjugate function for the Hermetian Transpose:\\n\", hermitian_C) # note the sign flips!\n"
   ]
  },
  {
   "cell_type": "markdown",
   "metadata": {},
   "source": [
    "\n",
    "---\n",
    "# VIDEO: Diagonal and trace\n",
    "---\n"
   ]
  },
  {
   "cell_type": "code",
   "execution_count": 28,
   "metadata": {},
   "outputs": [
    {
     "name": "stdout",
     "output_type": "stream",
     "text": [
      "Matrix M:\n",
      " [[ -4. -11.  -4.   6.]\n",
      " [ -4.   2.   4. -10.]\n",
      " [  1.  -2.  -4. -10.]\n",
      " [ -1.  -8.  -8.  -5.]]\n",
      " \n",
      "Diagonal (d) of M, using np.diag function:\n",
      " [-4.  2. -4. -5.]\n",
      "\n",
      "Create a vector with d as the diagonal, using the same np.diag function:\n",
      " [[-4.  0.  0.  0.]\n",
      " [ 0.  2.  0.  0.]\n",
      " [ 0.  0. -4.  0.]\n",
      " [ 0.  0.  0. -5.]]\n",
      "\n",
      "Trace using np.trace: -11.0, \n",
      "and using sum(np.diag): -11.0\n"
     ]
    }
   ],
   "source": [
    "\n",
    "M = np.round( 6*np.random.randn(4,4) ) # This creates a random 4x4 matrix, scaled by 6, all rounded to integers\n",
    "print(\"Matrix M:\\n\", M), print(' ')\n",
    "\n",
    "# extract the diagonal of M\n",
    "d = np.diag(M)\n",
    "\n",
    "# notice the two ways of using the diag function\n",
    "d = np.diag(M) # input is matrix, output is vector\n",
    "D = np.diag(d) # input is vector, output is matrix\n",
    "print(\"Diagonal (d) of M, using np.diag function:\\n\", d)\n",
    "print(\"\\nCreate a vector with d as the diagonal, using the same np.diag function:\\n\",D)\n",
    "\n",
    "# trace as sum of diagonal elements\n",
    "tr = np.trace(M)\n",
    "tr2 = sum( np.diag(M) )\n",
    "print(f\"\\nTrace using np.trace: {tr}, \\nand using sum(np.diag): {tr2}\")"
   ]
  },
  {
   "cell_type": "markdown",
   "metadata": {},
   "source": [
    "\n",
    "---\n",
    "# VIDEO: Broadcasting matrix arithmetic\n",
    "---\n"
   ]
  },
  {
   "cell_type": "code",
   "execution_count": 35,
   "metadata": {},
   "outputs": [
    {
     "name": "stdout",
     "output_type": "stream",
     "text": [
      "Martix A:\n",
      " [[ 1  4  7 10]\n",
      " [ 2  5  8 11]\n",
      " [ 3  6  9 12]]\n",
      " \n",
      "Row vector r:\n",
      " [10, 20, 30, 40]\n",
      " \n",
      "Column vector c:\n",
      " [100, 200, 300]\n",
      " \n"
     ]
    }
   ],
   "source": [
    "# create a matrix\n",
    "A = np.reshape(np.arange(1,13),(3,4),'F') # for np.reshape: options - F=column, C=row\n",
    "\n",
    "# and two vectors\n",
    "r = [ 10, 20, 30, 40 ]\n",
    "c = [ 100, 200, 300 ]\n",
    "\n",
    "print(\"Martix A:\\n\", A), print(' ')\n",
    "print(\"Row vector r:\\n\", r), print(' ')\n",
    "print(\"Column vector c:\\n\", c), print(' ');"
   ]
  },
  {
   "cell_type": "code",
   "execution_count": 47,
   "metadata": {},
   "outputs": [
    {
     "name": "stdout",
     "output_type": "stream",
     "text": [
      "Martix A:\n",
      " [[ 1  4  7 10]\n",
      " [ 2  5  8 11]\n",
      " [ 3  6  9 12]]\n",
      " \n",
      "Row vector r:\n",
      " [10, 20, 30, 40]\n",
      " \n",
      "Broadcast on the rows (A+r):\n",
      " [[11 24 37 50]\n",
      " [12 25 38 51]\n",
      " [13 26 39 52]]\n",
      " \n",
      "\n",
      "\n",
      "Column vector c (however, it is in row format currently):\n",
      " [100, 200, 300]\n",
      "\n",
      "c explicity reshaped as a column vector:\n",
      " [[100]\n",
      " [200]\n",
      " [300]]\n",
      "\n",
      " Broadcast on the columns (A+c):\n",
      " [[101 104 107 110]\n",
      " [202 205 208 211]\n",
      " [303 306 309 312]]\n"
     ]
    }
   ],
   "source": [
    "# broadcast on the rows\n",
    "print(\"Martix A:\\n\", A), print(' ')\n",
    "print(\"Row vector r:\\n\", r), print(' ')\n",
    "print(\"Broadcast on the rows (A+r):\\n\", A+r), print(' ')\n",
    "\n",
    "\n",
    "# broadcast on the columns\n",
    "# print(A+c) # This only works if you explicitly reshape c into a column vector\n",
    "\n",
    "print(\"\\n\\nColumn vector c (however, it is in row format currently):\\n\", c)\n",
    "c_column = np.reshape(c,(len(c),1))\n",
    "print(\"\\nc explicity reshaped as a column vector:\\n\", c_column)\n",
    "print(\"\\n Broadcast on the columns (A+c):\\n\",A+c_column) # Reshape c into a column vector\n"
   ]
  }
 ],
 "metadata": {
  "kernelspec": {
   "display_name": "Python 3",
   "language": "python",
   "name": "python3"
  },
  "language_info": {
   "codemirror_mode": {
    "name": "ipython",
    "version": 3
   },
   "file_extension": ".py",
   "mimetype": "text/x-python",
   "name": "python",
   "nbconvert_exporter": "python",
   "pygments_lexer": "ipython3",
   "version": "3.12.11"
  }
 },
 "nbformat": 4,
 "nbformat_minor": 2
}
