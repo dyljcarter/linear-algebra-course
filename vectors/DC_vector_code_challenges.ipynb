{
 "cells": [
  {
   "cell_type": "markdown",
   "id": "b4fc7ea5",
   "metadata": {},
   "source": [
    "# Vector Code Challenges and Solutions to Practice Questions"
   ]
  },
  {
   "cell_type": "code",
   "execution_count": 1,
   "id": "b7495164",
   "metadata": {},
   "outputs": [],
   "source": [
    "import numpy as np\n",
    "import matplotlib.pyplot as plt"
   ]
  },
  {
   "cell_type": "markdown",
   "id": "58304734",
   "metadata": {},
   "source": [
    "## Code Challenge 1: Calculate the Dot Product using a for-loop\n",
    "\n",
    "-   Create 2 4x6 matrices of random numbers. <br>\n",
    "-   Use a for-loop to calculate the dot productS between the corresponding columns of the two matrices."
   ]
  },
  {
   "cell_type": "markdown",
   "id": "640f3f8c",
   "metadata": {},
   "source": [
    "### Solution Attempt 1: using integers and the np.dot function"
   ]
  },
  {
   "cell_type": "code",
   "execution_count": null,
   "id": "3bac7f98",
   "metadata": {},
   "outputs": [
    {
     "name": "stdout",
     "output_type": "stream",
     "text": [
      "Matrix intA:\n",
      "[[4 8 9 2 5 5]\n",
      " [8 7 7 3 6 2]\n",
      " [2 5 6 9 5 1]\n",
      " [3 1 8 7 8 9]]\n",
      "\n",
      "Matrix intB:\n",
      "[[2 3 4 4 4 1]\n",
      " [2 7 4 2 8 5]\n",
      " [1 4 3 1 1 9]\n",
      " [4 2 1 9 2 2]]\n",
      "\n",
      "Dot product of each row in A with the corresponding row in B:\n",
      "[ 80.  60.  66.  73.  74. 144.]\n"
     ]
    }
   ],
   "source": [
    "### Create the 4x6 matrices ###\n",
    "\n",
    "# Specify the size of the matrices\n",
    "matrixSize = (4, 6)\n",
    "\n",
    "# Create two random integer matrices intA and intB\n",
    "intA = np.random.randint(1, 10, size=matrixSize)\n",
    "intB = np.random.randint(1, 10, size=matrixSize)\n",
    "\n",
    "\n",
    "#### Calculate the dot product using the np.dot function ####\n",
    "\n",
    "# Preallocate the dot product array\n",
    "dotproduct = np.zeros(matrixSize[1])\n",
    "\n",
    "# Calculate the dot product of each row in intA with the corresponding row in intB\n",
    "for i in range(matrixSize[1]):\n",
    "    dotproduct[i] = np.dot(intA[:,i], intB[:,i])\n",
    "    \n",
    "# Print the matrices and the dot product\n",
    "print(\"Matrix intA:\")\n",
    "print(A)\n",
    "print(\"\\nMatrix intB:\")\n",
    "print(B)\n",
    "print(\"\\nDot product of each row in A with the corresponding row in B:\")\n",
    "print(dotproduct)"
   ]
  },
  {
   "cell_type": "markdown",
   "id": "86e876c0",
   "metadata": {},
   "source": [
    "### Attempt 2: using floats and the @ operator"
   ]
  },
  {
   "cell_type": "code",
   "execution_count": null,
   "id": "4a3a1e64",
   "metadata": {},
   "outputs": [
    {
     "name": "stdout",
     "output_type": "stream",
     "text": [
      "\n",
      "Matrix floatA:\n",
      "[[11.91317769 13.42341815 10.58631703  7.74131871 11.98108659  7.89238116]\n",
      " [ 1.43778762 19.75073328 14.50128433 13.8659981   2.61945631 10.82471852]\n",
      " [14.97624605 11.95646624 18.68505583 10.22963821 16.85293839 11.22819819]\n",
      " [ 2.04883793 17.50342975  9.29954217  1.94940617 18.81862245 11.97589821]]\n",
      "\n",
      "Matrix floatB:\n",
      "[[ 0.98483309 16.29317866  5.73613116 15.92326045 14.9823914   0.98748073]\n",
      " [ 6.68835333 15.39808191 19.72716594 15.09378147  3.2151458  10.4397453 ]\n",
      " [10.1123233  14.49696767  5.84231851  8.88192053  7.77474039 15.16362952]\n",
      " [19.54553709  7.87584163  2.3343602   0.54290703 13.96390974  5.04318041]]\n",
      "\n",
      "Dot product of each row in floatA with the corresponding row in floatB:\n",
      "[212.83920277 834.02030425 477.66627385 424.47455917 581.73602862\n",
      " 351.45773134]\n"
     ]
    }
   ],
   "source": [
    "\n",
    "### Create the 4x6 matrices ###\n",
    "\n",
    "# Specify the size of the matrices\n",
    "matrixSize = (4, 6)\n",
    "\n",
    "# Create two random integer matrices floatA and floatB\n",
    "floatA = np.random.uniform(0.0, 20.0, size=matrixSize)\n",
    "floatB = np.random.uniform(0.0, 20.0, size=matrixSize)\n",
    "\n",
    "\n",
    "#### Calculate the dot product using the @ operator ####\n",
    "\n",
    "# Preallocate the dot product array\n",
    "floatdotproduct = np.zeros(matrixSize[1])\n",
    "\n",
    "# Calculate the dot product of each row in floatA with the corresponding row in floatB\n",
    "for i in range(matrixSize[1]):\n",
    "    floatdotproduct[i] = floatA[:,i] @ floatB[:,i]\n",
    "\n",
    "# Print the matrices and the dot product\n",
    "print(\"\\nMatrix floatA:\")\n",
    "print(floatA)\n",
    "print(\"\\nMatrix floatB:\")\n",
    "print(floatB)\n",
    "print(\"\\nDot product of each row in floatA with the corresponding row in floatB:\")\n",
    "print(floatdotproduct)"
   ]
  },
  {
   "cell_type": "markdown",
   "id": "571c5040",
   "metadata": {},
   "source": [
    "## Code Challenge 2: Is the Dot Product Commutative?\n",
    "**Communative Meaning**: *a'\\*b == b'\\*a* <br>"
   ]
  },
  {
   "cell_type": "markdown",
   "id": "19449120",
   "metadata": {},
   "source": [
    "1.  Generate two 100-element random float row vectors (a and b), compute the dot product as a'*b and b'*a"
   ]
  },
  {
   "cell_type": "code",
   "execution_count": null,
   "id": "3785719a",
   "metadata": {},
   "outputs": [
    {
     "name": "stdout",
     "output_type": "stream",
     "text": [
      "\n",
      "Dot product of vecA and vecB (vecA'*vecB):\n",
      "28.419891862449475\n",
      "\n",
      "Dot product of vecB and vecA (vecB'*vecA):\n",
      "28.419891862449475\n"
     ]
    }
   ],
   "source": [
    "# Specify the size of the vector\n",
    "vectorSize = 100\n",
    "\n",
    "# Create two random vectors vecA and vecB\n",
    "vecA = np.random.rand(vectorSize)\n",
    "vecB = np.random.rand(vectorSize)\n",
    "\n",
    "## Compute dot product of vecA'*vecB and vecB'*vecA using @ operator\n",
    "dotproduct_ab = vecA @ vecB\n",
    "dotproduct_ba = vecB @ vecA\n",
    "\n",
    "print(\"\\nDot product of vecA and vecB (vecA'*vecB):\")\n",
    "print(dotproduct_ab)\n",
    "print(\"\\nDot product of vecB and vecA (vecB'*vecA):\")\n",
    "print(dotproduct_ba)"
   ]
  },
  {
   "cell_type": "markdown",
   "id": "d25b4737",
   "metadata": {},
   "source": [
    "2.  Generate two 2-element random integer row vectors (a and b), compute the dot product as a'*b and b'*a"
   ]
  },
  {
   "cell_type": "code",
   "execution_count": 44,
   "id": "a647e67b",
   "metadata": {},
   "outputs": [
    {
     "name": "stdout",
     "output_type": "stream",
     "text": [
      "\n",
      "Vector vecA:\n",
      "[7 6]\n",
      "\n",
      "Vector vecB:\n",
      "[9 3]\n",
      "\n",
      "Dot product of vecA and vecB using np.dot (vecA'*vecB):\n",
      "81\n",
      "\n",
      "Dot product of vecB and vecA using np.dot (vecB'*vecA):\n",
      "81\n"
     ]
    }
   ],
   "source": [
    "# Specify vector size\n",
    "vectorSize = 2\n",
    "\n",
    "# Create two random vectors vecA and vecB\n",
    "vecA = np.random.randint(1,10, size=vectorSize)\n",
    "vecB = np.random.randint(1,10, size=vectorSize)\n",
    "\n",
    "# Compute dot product of vecA'*vecB and vecB'*vecA using np.dot function\n",
    "vecdotproduct1 = np.dot(vecA, vecB)\n",
    "vecdotproduct2 = np.dot(vecB, vecA)\n",
    "\n",
    "\n",
    "print(\"\\nVector vecA:\")\n",
    "print(vecA)\n",
    "print(\"\\nVector vecB:\")\n",
    "print(vecB)\n",
    "print(\"\\nDot product of vecA and vecB using np.dot (vecA'*vecB):\")\n",
    "print(vecdotproduct1)\n",
    "print(\"\\nDot product of vecB and vecA using np.dot (vecB'*vecA):\")\n",
    "print(vecdotproduct2)"
   ]
  },
  {
   "cell_type": "markdown",
   "id": "1f34e3b4",
   "metadata": {},
   "source": [
    "## Solution to Quiz 3: Vector Orthogonality\n",
    "Are the following vectors orthogonal? <br>\n",
    "-   a = [16, -2, 4]\n",
    "-   b = [.5,  2,-1]"
   ]
  },
  {
   "cell_type": "code",
   "execution_count": null,
   "id": "efa52427",
   "metadata": {},
   "outputs": [
    {
     "name": "stdout",
     "output_type": "stream",
     "text": [
      "Dot product of a and b (a'*b):\n",
      "0.0\n"
     ]
    }
   ],
   "source": [
    "## Input vectors\n",
    "a = np.array([16, -2, 4])\n",
    "b = np.array([.5,  2,-1])\n",
    "\n",
    "# Compute the dot product of a and b\n",
    "dp_ab = a @ b\n",
    "\n",
    "print(\"Dot product of a and b (a'*b):\")\n",
    "print(dp_ab)"
   ]
  },
  {
   "cell_type": "markdown",
   "id": "7f943e23",
   "metadata": {},
   "source": [
    "### Answer: \n",
    "Yes, they are orthogonal. <br>\n",
    "The dot product of a and b is 0, which means they are orthogonal."
   ]
  },
  {
   "cell_type": "markdown",
   "id": "a67a8ba4",
   "metadata": {},
   "source": [
    "## Cauchy-Schwarz Inequality Code Challenge\n",
    "**Cauchy-Schwarz Inequality**: *|a'\\*b| <= ||a|| ||b||* <br>\n",
    "-   Show condition when *|a'\\*b| = ||a|| ||b||*\n"
   ]
  },
  {
   "cell_type": "code",
   "execution_count": null,
   "id": "47e4c846",
   "metadata": {},
   "outputs": [
    {
     "name": "stdout",
     "output_type": "stream",
     "text": [
      "\n",
      "Length of vector a:\n",
      "2.0141\n",
      "\n",
      "Length of vector b:\n",
      "0.2335\n",
      "\n",
      "Angle between vector a and vector aScaled in radians:\n",
      "0.0000rad, 0.0000deg\n",
      "\n",
      "Dot product of vector a and vector aScaled using np.dot (a'*b):\n",
      "0.4704\n",
      "\n",
      "The product of the lengths of the vectors is equal to the dot product. \n",
      "0.4704 = 0.4704\n"
     ]
    }
   ],
   "source": [
    "# Create two linearly dependent (i.e. scaled versions of the same vector) vectors a and aScaled\n",
    "a = np.random.randn(4)\n",
    "aScaled = np.random.randn() * a\n",
    "\n",
    "len_a = np.linalg.norm(a)\n",
    "len_aScaled = np.linalg.norm(aScaled)\n",
    "product_lengths = len_a * len_aScaled\n",
    "\n",
    "# Print the lengths of the vectors\n",
    "print(\"\\nLength of vector a:\")\n",
    "print(round(len_a,4))\n",
    "print(\"\\nLength of vector b:\")\n",
    "print(round(len_aScaled,4))\n",
    "\n",
    "# Calculate the angle between the vectors using the dot product\n",
    "cos_theta = a @ aScaled / (len_a * len_aScaled)\n",
    "angle = np.arccos(cos_theta)\n",
    "angledegrees = np.degrees(angle)\n",
    "\n",
    "# Print the angle in radians\n",
    "print(\"\\nAngle between vector a and vector aScaled in radians:\")\n",
    "print(f\"{angle:.4f}rad,\", f\"{angledegrees:.4f}deg\") #:.4f rounds the output to 4 decimal places\n",
    "\n",
    "\n",
    "# Calculate the absolute dot product using np.dot\n",
    "dp_a_aScaled = abs(np.dot(a, aScaled))\n",
    "\n",
    "# Print the dot product\n",
    "print(\"\\nDot product of vector a and vector aScaled using np.dot (a'*b):\")\n",
    "print(round(dp_a_aScaled,4))\n",
    "\n",
    "# Identify whether the product of the two vecctor lengths is equal to the dot product\n",
    "if np.isclose(product_lengths, dp_a_aScaled):\n",
    "    print(f\"\\nThe product of the lengths of the vectors is equal to the dot product. \\n{dp_a_aScaled:.4f} = {product_lengths:.4f}\")\n",
    "else:\n",
    "    print(f\"\\nThe product of the lengths of the vectors is NOT equal to the dot product. \\n{dp_a_aScaled:.4f} =/= {product_lengths:.4f}\")\n",
    "\n"
   ]
  },
  {
   "cell_type": "markdown",
   "id": "7a4ea6f4",
   "metadata": {},
   "source": [
    "-   Show condition when *|a'\\*b| < ||a|| ||b||*"
   ]
  },
  {
   "cell_type": "code",
   "execution_count": 89,
   "id": "1b23460f",
   "metadata": {},
   "outputs": [
    {
     "name": "stdout",
     "output_type": "stream",
     "text": [
      "\n",
      "Length of vector a:\n",
      "2.1521\n",
      "\n",
      "Length of vector b:\n",
      "2.1521\n",
      "\n",
      "Angle between vector a and vector b in radians:\n",
      "1.4678rad, 84.0979deg\n",
      "\n",
      "Dot product of vector a and vector b using np.dot (a'*b):\n",
      "0.2935\n",
      "\n",
      "The product of the lengths of the vectors is NOT equal to the dot product. \n",
      "0.2935 != 2.8541\n"
     ]
    }
   ],
   "source": [
    "# Create two linearly independent vectors a and b\n",
    "a = np.random.randn(5)\n",
    "b = np.random.randn(5)\n",
    "\n",
    "# Compute the lengths of the vectors\n",
    "lenA = np.linalg.norm(a)\n",
    "lenB = np.linalg.norm(b)\n",
    "product_lengths = lenA * lenB\n",
    "\n",
    "# Print the lengths of the vectors\n",
    "print(\"\\nLength of vector a:\")\n",
    "print(round(lenA,4))\n",
    "print(\"\\nLength of vector b:\")\n",
    "print(round(lenA,4))\n",
    "\n",
    "# Calculate the angle between the vectors using the dot product\n",
    "cos_theta = a @ b / (lenA * lenB)\n",
    "angle = np.arccos(cos_theta)\n",
    "angledegrees = np.degrees(angle)\n",
    "\n",
    "# Print the angle in radians\n",
    "print(\"\\nAngle between vector a and vector b in radians:\")\n",
    "print(f\"{angle:.4f}rad,\", f\"{angledegrees:.4f}deg\") #:.4f formats the output to 4 decimal places\n",
    "\n",
    "# Calculate the absolute dot product using np.dot\n",
    "dp_ab = abs(np.dot(a, b))\n",
    "\n",
    "# Print the dot product\n",
    "print(\"\\nDot product of vector a and vector b using np.dot (a'*b):\")\n",
    "print(round(dp_ab,4))\n",
    "\n",
    "# Identify whether the product of the two vecctor lengths is equal to the dot product\n",
    "if np.isclose(product_lengths, dp_ab):\n",
    "    print(f\"\\nThe product of the lengths of the vectors is equal to the dot product. \\n{dp_ab:.4f} = {product_lengths:.4f}\")\n",
    "else:\n",
    "    print(f\"\\nThe product of the lengths of the vectors is NOT equal to the dot product. \\n{dp_ab:.4f} != {product_lengths:.4f}\")"
   ]
  },
  {
   "cell_type": "markdown",
   "id": "c6f81742",
   "metadata": {},
   "source": [
    "## Code Challenge: dot product sign and scalar multiplication\n",
    "Test whether the dot product sign is invariant under scalar multiplication. <br>\n",
    "-   Generate 2 vectors (R^2).\n",
    "-   Generate 2 scalars.\n",
    "-   Compute the dot product of the vectors.\n",
    "-   Compute the dot product of the vectors multiplied by the scalars."
   ]
  },
  {
   "cell_type": "code",
   "execution_count": 134,
   "id": "eac3a421",
   "metadata": {},
   "outputs": [
    {
     "name": "stdout",
     "output_type": "stream",
     "text": [
      "\n",
      "Unscaled Vectors:\n",
      "A:[0.41262907 0.553694  ], B:[ 1.09924666 -0.76639301]\n"
     ]
    },
    {
     "data": {
      "image/png": "[encoded data removed]",
      "text/plain": [
       "<Figure size 800x800 with 1 Axes>"
      ]
     },
     "metadata": {},
     "output_type": "display_data"
    }
   ],
   "source": [
    "# Generate 2 random vectors in R^3\n",
    "vecA = np.random.randn(2)\n",
    "vecB = np.random.randn(2)\n",
    "# Print the vectors\n",
    "print(\"\\nUnscaled Vectors:\")\n",
    "print(f\"A:{vecA}, B:{vecB}\")\n",
    "\n",
    "# Plot the vectors\n",
    "plt.figure(figsize=(8, 8))\n",
    "plt.quiver(0, 0, vecA[0], vecA[1],\n",
    "           angles='xy', scale_units='xy', scale=1, color='r', label='Vector A')\n",
    "plt.quiver(0, 0, vecB[0], vecB[1],\n",
    "           angles='xy', scale_units='xy', scale=1, color='b', label='Vector B')\n",
    "plt.xlim(-5, 5)\n",
    "plt.ylim(-5, 5)\n",
    "plt.axhline(0, color='black', lw=0.5)\n",
    "plt.axvline(0, color='black', lw=0.5)\n",
    "plt.grid()"
   ]
  },
  {
   "cell_type": "code",
   "execution_count": null,
   "id": "0c743c5c",
   "metadata": {},
   "outputs": [
    {
     "name": "stdout",
     "output_type": "stream",
     "text": [
      "\n",
      "Scalars:\n",
      "A:6.0000, B:-4.0000\n",
      "\n",
      "Dot products of vectors:\n",
      "Unscaled: 0.0292, Scaled: -0.7016\n"
     ]
    },
    {
     "data": {
      "image/png": "[encoded data removed]",
      "text/plain": [
       "<Figure size 640x480 with 1 Axes>"
      ]
     },
     "metadata": {},
     "output_type": "display_data"
    }
   ],
   "source": [
    "# Choose 2 scalars: play around with positive and negative values\n",
    "scalarA = 6\n",
    "scalarB = -4\n",
    "# Print the scalars\n",
    "print(\"\\nScalars:\")\n",
    "print(f\"A:{scalarA:.4f}, B:{scalarB:.4f}\")\n",
    "\n",
    "# Scale the vectors\n",
    "vecAscaled = scalarA * vecA\n",
    "vecBscaled = scalarB * vecB\n",
    "\n",
    "# Compute dot product between unscaled vectors\n",
    "dp_unscaled = vecA @ vecB\n",
    "\n",
    "# Compute dot product between scaled vectors\n",
    "dp_scaled = np.dot((vecAscaled), (vecBscaled))\n",
    "\n",
    "print(\"\\nDot products of vectors:\")\n",
    "print(f\"Unscaled: {dp_unscaled:.4f}, Scaled: {dp_scaled:.4f}\")\n",
    "\n",
    "# Plot the scaled vectors with the original vectors\n",
    "plt.quiver(0, 0, vecAscaled[0], vecAscaled[1],\n",
    "           angles='xy', scale_units='xy', scale=1, color='r', label='Scaled Vector A')\n",
    "plt.quiver(0, 0, vecBscaled[0], vecBscaled[1],\n",
    "           angles='xy', scale_units='xy', scale=1, color='b', label='Scaled Vector B')\n",
    "plt.legend()\n",
    "plt.title('Vectors and their Scaled Versions')\n",
    "plt.ylim(-5, 5)\n",
    "plt.xlim(-5, 5)\n",
    "plt.axhline(0, color='black', lw=0.5)\n",
    "plt.axvline(0, color='black', lw=0.5)\n",
    "plt.grid()\n",
    "\n"
   ]
  },
  {
   "cell_type": "markdown",
   "id": "b4e1651e",
   "metadata": {},
   "source": [
    "## Code Challenge: dot products with unit vectors\n",
    "-   Create two random-integer vectors in R^4.\n",
    "-   Compute the lengths of the individual vectors, and magnitude of their dot product.\n",
    "-   \"Normalise\" the vectors, i.e. transform them into the unit-vector of each.\n",
    "-   Compute the magnitude of the dot product of the unit vectors."
   ]
  },
  {
   "cell_type": "code",
   "execution_count": 195,
   "id": "7de5719a",
   "metadata": {},
   "outputs": [
    {
     "name": "stdout",
     "output_type": "stream",
     "text": [
      "Integer Vectors: \n",
      "vecA: [ 25  29 -11  33] \n",
      "vecB: [ 41 -38  13 -24]\n",
      "\n",
      "Length of vector A: 51.7301\n",
      "Length of vector B: 62.2093\n",
      "Dot product of vector A and vector B: 1012.0000\n",
      "\n",
      "Length of unit vector A: 1.0000\n",
      "Length of unit vector B: 1.0000\n",
      "Dot product of unit vector A and unit vector B: 0.3145\n",
      "\n",
      "THE DOT PRODUCT OF UNIT VECTORS IS THE COSINE OF THE ANGLE BETWEEN THEM!!\n",
      "Angle between unit vector A and unit vector B: 1.2509 rad, 71.6711 deg\n"
     ]
    }
   ],
   "source": [
    "# Create 2 random integer vectors vecA and vecB in R^4\n",
    "vecA = np.random.randint(-50,50, size=4)\n",
    "vecB = np.random.randint(-50,50, size=4)\n",
    "# Print the vectors\n",
    "print(f\"Integer Vectors: \\nvecA: {vecA} \\nvecB: {vecB}\")\n",
    "\n",
    "# Compute the lengths of the vectors\n",
    "lenA = np.linalg.norm(vecA) # Could also write as: np.sqrt(np.dot(vecA, vecA))\n",
    "lenB = np.linalg.norm(vecB)\n",
    "print(f\"\\nLength of vector A: {lenA:.4f}\")\n",
    "print(f\"Length of vector B: {lenB:.4f}\")\n",
    "\n",
    "# Compute the mangitude of the dot product\n",
    "dp_ab = np.abs(np.dot(vecA, vecB)) # Magnitude is the absolute value of the dot product\n",
    "print(f\"Dot product of vector A and vector B: {dp_ab:.4f}\")\n",
    "\n",
    "# \"Normalise\" the vectors to length 1 (unit vectors)\n",
    "vec_unit = vecA / lenA\n",
    "vecB_unit = vecB / lenB\n",
    "print(f\"\\nLength of unit vector A: {np.linalg.norm(vec_unit):.4f}\")\n",
    "print(f\"Length of unit vector B: {np.linalg.norm(vecB_unit):.4f}\")\n",
    "\n",
    "# Calculate the dot product\n",
    "dp_unit = np.abs(np.dot(vec_unit, vecB_unit))\n",
    "print(f\"Dot product of unit vector A and unit vector B: {dp_unit:.4f}\")\n",
    "\n",
    "## THE DOT PRODUCT OF UNIT VECTORS IS THE COSINE OF THE ANGLE BETWEEN THEM!!\n",
    "# Print the angle between the vectors\n",
    "angle = np.arccos(dp_unit)\n",
    "angle_degrees = np.degrees(angle)\n",
    "print(\"\\nTHE DOT PRODUCT OF UNIT VECTORS IS THE COSINE OF THE ANGLE BETWEEN THEM!!\")\n",
    "print(f\"Angle between unit vector A and unit vector B: {angle:.4f} rad, {angle_degrees:.4f} deg\")\n"
   ]
  }
 ],
 "metadata": {
  "kernelspec": {
   "display_name": "Python 3",
   "language": "python",
   "name": "python3"
  },
  "language_info": {
   "codemirror_mode": {
    "name": "ipython",
    "version": 3
   },
   "file_extension": ".py",
   "mimetype": "text/x-python",
   "name": "python",
   "nbconvert_exporter": "python",
   "pygments_lexer": "ipython3",
   "version": "3.12.11"
  }
 },
 "nbformat": 4,
 "nbformat_minor": 5
}
