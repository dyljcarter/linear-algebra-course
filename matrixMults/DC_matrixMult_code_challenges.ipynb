{
 "cells": [
  {
   "cell_type": "markdown",
   "id": "97037fcb",
   "metadata": {},
   "source": [
    "# Matrix Multiplication Code Challenges and Solutions to Practice Questions"
   ]
  },
  {
   "cell_type": "code",
   "execution_count": 1,
   "id": "78d0290d",
   "metadata": {},
   "outputs": [],
   "source": [
    "import numpy as np"
   ]
  },
  {
   "cell_type": "markdown",
   "id": "3877fa40",
   "metadata": {},
   "source": [
    "## Code Challenge 1: Implement matrix multiplication via layers.\n",
    "\n",
    "-   Generate two matrices (A and B)\n",
    "-   Build the product matrix layer-wise (for-loop)\n",
    "-   Implement the matrix multiplication directly\n",
    "-   Compare Results.\n"
   ]
  },
  {
   "cell_type": "code",
   "execution_count": null,
   "id": "3d56f894",
   "metadata": {},
   "outputs": [
    {
     "name": "stdout",
     "output_type": "stream",
     "text": [
      "Matrix A: \n",
      "[[-1.30435898  0.52870277]\n",
      " [ 1.97120672  0.58520005]\n",
      " [-1.66818315  0.74456574]\n",
      " [-0.4974954  -1.83701702]\n",
      " [-0.17544002  0.15840632]]\n",
      "\n",
      "Matrix B: \n",
      "[[0.27091759 0.44923503 0.79289854]\n",
      " [0.94544205 0.02903062 0.83647433]]\n",
      "\n",
      "Matrix Multiplication via Layer Method:\n",
      " [[ 0.14648404 -0.57061517 -0.59197803]\n",
      " [ 1.08730732  0.90252383  2.05247176]\n",
      " [ 0.2520036  -0.7277911  -0.69988985]\n",
      " [-1.87157339 -0.2768221  -1.93108095]\n",
      " [ 0.10223421 -0.07421517 -0.00660331]]\n",
      "\n",
      "Simpler method:\n",
      " [[ 0.14648404 -0.57061517 -0.59197803]\n",
      " [ 1.08730732  0.90252383  2.05247176]\n",
      " [ 0.2520036  -0.7277911  -0.69988985]\n",
      " [-1.87157339 -0.2768221  -1.93108095]\n",
      " [ 0.10223421 -0.07421517 -0.00660331]]\n",
      "\n",
      "Matrix Multiplication using the np.matmul function: \n",
      "[[ 0.14648404 -0.57061517 -0.59197803]\n",
      " [ 1.08730732  0.90252383  2.05247176]\n",
      " [ 0.2520036  -0.7277911  -0.69988985]\n",
      " [-1.87157339 -0.2768221  -1.93108095]\n",
      " [ 0.10223421 -0.07421517 -0.00660331]]\n"
     ]
    }
   ],
   "source": [
    "# Input matrix dimensions\n",
    "\n",
    "m = 5 # Outer Dimension 1\n",
    "n = 2 # Inner Dimension\n",
    "z = 3 # Puter Dimension 2\n",
    "\n",
    "# Generate random matrices (with inner dimensions the same)\n",
    "A = np.random.randn(m,n)\n",
    "B = np.random.rand(n,z)\n",
    "\n",
    "# Print A and B\n",
    "print(f\"Matrix A: \\n{A}\")\n",
    "print(f\"\\nMatrix B: \\n{B}\")\n",
    "\n",
    "# Preallocate the outer product matrix multiplication 3D array (2 layers of m x z)\n",
    "op_mm = np.zeros((m,z,n))\n",
    "\n",
    "for i in range(n):\n",
    "    for j in range(m):\n",
    "        for k in range(z):\n",
    "            op_mm[j,k,i] = A[j,i] * B[i,k]\n",
    "\n",
    "# Add the two layers\n",
    "final_op_mm = op_mm[:,:,0] + op_mm[:,:,1]\n",
    "print(\"\\nMatrix Multiplication via Layer Method:\\n\", final_op_mm)\n",
    "\n",
    " \n",
    "# MUCH simpler way to do this using outer product\n",
    "op_mm2 = np.zeros((m,z))\n",
    "\n",
    "for i in range(n):\n",
    "        op_mm2 += np.outer(A[:,i], B[i,:]) # The += sign is identical to: op_mm2 = op_mm2 + np.outer(A[:,i], B[i,:])\n",
    "print(\"\\nSimpler method:\\n\", op_mm2)\n",
    "\n",
    "\n",
    "# Calculate using matrix multiplication\n",
    "mm = np.matmul(A,B)\n",
    "print(f\"\\nMatrix Multiplication using the np.matmul function: \\n{mm}\")"
   ]
  }
 ],
 "metadata": {
  "kernelspec": {
   "display_name": "Python 3",
   "language": "python",
   "name": "python3"
  },
  "language_info": {
   "codemirror_mode": {
    "name": "ipython",
    "version": 3
   },
   "file_extension": ".py",
   "mimetype": "text/x-python",
   "name": "python",
   "nbconvert_exporter": "python",
   "pygments_lexer": "ipython3",
   "version": "3.12.11"
  }
 },
 "nbformat": 4,
 "nbformat_minor": 5
}
